{
 "cells": [
  {
   "cell_type": "code",
   "execution_count": 1,
   "metadata": {},
   "outputs": [],
   "source": [
    "import configparser\n",
    "import psycopg2\n",
    "from sql_queries import copy_table_queries, insert_table_queries\n",
    "import pandas as pd\n",
    "import boto3\n",
    "import json\n"
   ]
  },
  {
   "cell_type": "code",
   "execution_count": null,
   "metadata": {},
   "outputs": [],
   "source": [
    "config = configparser.ConfigParser()\n",
    "config.read_file(open('dwh.cfg'))\n",
    "KEY = config.get('AWS', 'KEY')\n",
    "SECRET = config.get('AWS', 'SECRET') \n",
    "ROLE_NAME=config.get('IAM_ROLE','ROLE_NAME')\n",
    "CLUSTER_TYPE=config.get('CLUSTER','CLUSTER_TYPE')\n",
    "NUM_NODES=config.get('CLUSTER','NUM_NODES')\n",
    "NODE_TYPE=config.get('CLUSTER','NODE_TYPE')\n",
    "\n",
    "DB_NAME=config.get('CLUSTER','DB_NAME')\n",
    "DB_USER=config.get('CLUSTER','DB_USER')\n",
    "DB_PASSWORD=config.get('CLUSTER','DB_PASSWORD')\n",
    "DB_PORT=config.get('CLUSTER','DB_PORT')\n",
    "CLUSTER_IDENTIFIER=config.get('CLUSTER','CLUSTER_IDENTIFIER')\n",
    "\n",
    "\n",
    "pd.DataFrame({\n",
    "    \"Param\": ['KEY','SECRET', 'ROLE_NAME','CLUSTER_TYPE','NUM_NODES','NODE_TYPE', 'DB_NAME', 'DB_USER', 'DB_PASSWORD', 'DB_PORT','CLUSER_IDENTIFIER'],\n",
    "    \"Value\": [KEY, SECRET, ROLE_NAME, CLUSTER_TYPE, NUM_NODES, NODE_TYPE, DB_NAME, DB_USER, DB_PASSWORD, DB_PORT, CLUSTER_IDENTIFIER]\n",
    "})"
   ]
  },
  {
   "attachments": {},
   "cell_type": "markdown",
   "metadata": {},
   "source": [
    "#### Create clients for IAM, EC2, S3 and Redshift"
   ]
  },
  {
   "cell_type": "code",
   "execution_count": 3,
   "metadata": {},
   "outputs": [],
   "source": [
    "ec2 = boto3.resource('ec2',\n",
    "                       region_name=\"us-west-2\",\n",
    "                       aws_access_key_id=KEY,\n",
    "                       aws_secret_access_key=SECRET\n",
    "                    )\n",
    "\n",
    "s3 = boto3.resource('s3',\n",
    "                       region_name=\"us-west-2\",\n",
    "                       aws_access_key_id=KEY,\n",
    "                       aws_secret_access_key=SECRET\n",
    "                   )\n",
    "\n",
    "iam = boto3.client('iam',aws_access_key_id=KEY,\n",
    "                     aws_secret_access_key=SECRET,\n",
    "                     region_name='us-west-2'\n",
    "                  )\n",
    "\n",
    "redshift = boto3.client('redshift',\n",
    "                       region_name=\"us-west-2\",\n",
    "                       aws_access_key_id=KEY,\n",
    "                       aws_secret_access_key=SECRET\n",
    "                       )"
   ]
  },
  {
   "attachments": {},
   "cell_type": "markdown",
   "metadata": {},
   "source": [
    "#### Check out the data sources on S3"
   ]
  },
  {
   "cell_type": "code",
   "execution_count": 4,
   "metadata": {},
   "outputs": [
    {
     "name": "stdout",
     "output_type": "stream",
     "text": [
      "s3.ObjectSummary(bucket_name='udacity-dend', key='song_data/')\n",
      "s3.ObjectSummary(bucket_name='udacity-dend', key='song_data/A/A/A/TRAAAAK128F9318786.json')\n",
      "s3.ObjectSummary(bucket_name='udacity-dend', key='song_data/A/A/A/TRAAAAV128F421A322.json')\n",
      "s3.ObjectSummary(bucket_name='udacity-dend', key='song_data/A/A/A/TRAAABD128F429CF47.json')\n",
      "s3.ObjectSummary(bucket_name='udacity-dend', key='song_data/A/A/A/TRAAACN128F9355673.json')\n",
      "s3.ObjectSummary(bucket_name='udacity-dend', key='song_data/A/A/A/TRAAAEA128F935A30D.json')\n",
      "s3.ObjectSummary(bucket_name='udacity-dend', key='song_data/A/A/A/TRAAAED128E0783FAB.json')\n",
      "s3.ObjectSummary(bucket_name='udacity-dend', key='song_data/A/A/A/TRAAAEM128F93347B9.json')\n",
      "s3.ObjectSummary(bucket_name='udacity-dend', key='song_data/A/A/A/TRAAAEW128F42930C0.json')\n",
      "s3.ObjectSummary(bucket_name='udacity-dend', key='song_data/A/A/A/TRAAAFD128F92F423A.json')\n"
     ]
    }
   ],
   "source": [
    "dbBucket = s3.Bucket(\"udacity-dend\")\n",
    "for obj in dbBucket.objects.filter(Prefix=\"song_data\").limit(10):\n",
    "    print(obj)"
   ]
  },
  {
   "cell_type": "code",
   "execution_count": 5,
   "metadata": {},
   "outputs": [
    {
     "name": "stdout",
     "output_type": "stream",
     "text": [
      "s3.ObjectSummary(bucket_name='udacity-dend', key='log_data/')\n",
      "s3.ObjectSummary(bucket_name='udacity-dend', key='log_data/2018/11/2018-11-01-events.json')\n",
      "s3.ObjectSummary(bucket_name='udacity-dend', key='log_data/2018/11/2018-11-02-events.json')\n",
      "s3.ObjectSummary(bucket_name='udacity-dend', key='log_data/2018/11/2018-11-03-events.json')\n",
      "s3.ObjectSummary(bucket_name='udacity-dend', key='log_data/2018/11/2018-11-04-events.json')\n",
      "s3.ObjectSummary(bucket_name='udacity-dend', key='log_data/2018/11/2018-11-05-events.json')\n",
      "s3.ObjectSummary(bucket_name='udacity-dend', key='log_data/2018/11/2018-11-06-events.json')\n",
      "s3.ObjectSummary(bucket_name='udacity-dend', key='log_data/2018/11/2018-11-07-events.json')\n",
      "s3.ObjectSummary(bucket_name='udacity-dend', key='log_data/2018/11/2018-11-08-events.json')\n",
      "s3.ObjectSummary(bucket_name='udacity-dend', key='log_data/2018/11/2018-11-09-events.json')\n"
     ]
    }
   ],
   "source": [
    "dbBucket = s3.Bucket(\"udacity-dend\")\n",
    "for obj in dbBucket.objects.filter(Prefix=\"log_data\").limit(10):\n",
    "    print(obj)"
   ]
  },
  {
   "cell_type": "code",
   "execution_count": 6,
   "metadata": {},
   "outputs": [
    {
     "name": "stdout",
     "output_type": "stream",
     "text": [
      "s3.ObjectSummary(bucket_name='udacity-dend', key='log_json_path.json')\n"
     ]
    }
   ],
   "source": [
    "dbBucket = s3.Bucket(\"udacity-dend\")\n",
    "for obj in dbBucket.objects.filter(Prefix=\"log_json_path\").limit(10):\n",
    "    print(obj)"
   ]
  },
  {
   "attachments": {},
   "cell_type": "markdown",
   "metadata": {},
   "source": [
    "#### Create an IAM role for accessing S3 bucket from Redshift"
   ]
  },
  {
   "cell_type": "code",
   "execution_count": null,
   "metadata": {},
   "outputs": [],
   "source": [
    "try:\n",
    "    trust_policy ={\n",
    "        'Statement' : [{\n",
    "            \"Action\": \"sts:AssumeRole\",\n",
    "            \"Effect\": \"Allow\",\n",
    "            \"Principal\": {'Service': 'redshift.amazonaws.com'}\n",
    "        }],\n",
    "        'Version': '2012-10-17'\n",
    "    }\n",
    "\n",
    "    nedRole = iam.create_role(\n",
    "        Path='/',\n",
    "        RoleName=ROLE_NAME,\n",
    "        Description=\"Allows Redshift clusters to call AWS services.\",\n",
    "        AssumeRolePolicyDocument=json.dumps(trust_policy)\n",
    "    )\n",
    "    print(\"New IAM role created\")\n",
    "except Exception as e:\n",
    "    print(e)\n"
   ]
  },
  {
   "attachments": {},
   "cell_type": "markdown",
   "metadata": {},
   "source": [
    "#### Attach Policy to role and get IAM role ARN"
   ]
  },
  {
   "cell_type": "code",
   "execution_count": null,
   "metadata": {},
   "outputs": [],
   "source": [
    "iam.attach_role_policy(\n",
    "    RoleName=ROLE_NAME,\n",
    "    PolicyArn=\"arn:aws:iam::aws:policy/AmazonS3ReadOnlyAccess\"\n",
    ")['ResponseMetadata']['HTTPStatusCode']\n",
    "\n",
    "roleArn = iam.get_role(RoleName=ROLE_NAME)['Role']['Arn']\n",
    "print(roleArn)"
   ]
  },
  {
   "attachments": {},
   "cell_type": "markdown",
   "metadata": {},
   "source": [
    "#### Create Redshift Cluster"
   ]
  },
  {
   "cell_type": "code",
   "execution_count": 9,
   "metadata": {},
   "outputs": [],
   "source": [
    "try:\n",
    "    response = redshift.create_cluster(\n",
    "        ClusterType = CLUSTER_TYPE,\n",
    "        NodeType = NODE_TYPE,\n",
    "        NumberOfNodes = int(NUM_NODES),\n",
    "\n",
    "        #Identifiers & Credentials\n",
    "        DBName = DB_NAME, \n",
    "        MasterUsername=DB_USER, \n",
    "        MasterUserPassword=DB_PASSWORD, \n",
    "        ClusterIdentifier=CLUSTER_IDENTIFIER,\n",
    "\n",
    "        #Role (for S3 access)\n",
    "        IamRoles=[roleArn]\n",
    "    )\n",
    "except Exception as e:\n",
    "    print(e)"
   ]
  },
  {
   "attachments": {},
   "cell_type": "markdown",
   "metadata": {},
   "source": [
    "#### Describes the cluster to see its status"
   ]
  },
  {
   "cell_type": "code",
   "execution_count": null,
   "metadata": {},
   "outputs": [],
   "source": [
    "myClusterProps =  redshift.describe_clusters(ClusterIdentifier=CLUSTER_IDENTIFIER)['Clusters'][0]\n",
    "\n",
    "pd.set_option('display.max_colwidth', -1)\n",
    "\n",
    "keysToShow = ['ClusterIdentifier', 'NodeType', 'ClusterStatus', 'MasterUsername', 'DBName', 'Endpoint', 'NumberOfNodes', 'VpcId']\n",
    "\n",
    "x = [(k, v) for k, v in myClusterProps.items() if k in keysToShow]\n",
    "\n",
    "pd.DataFrame(data=x, columns=['key', 'value'])"
   ]
  },
  {
   "attachments": {},
   "cell_type": "markdown",
   "metadata": {},
   "source": [
    "#### Cluster endpoint and role ARN"
   ]
  },
  {
   "cell_type": "code",
   "execution_count": 33,
   "metadata": {},
   "outputs": [
    {
     "name": "stdout",
     "output_type": "stream",
     "text": [
      "DWH_ENDPOINT ::  nedcluster24.cy9k8ycfdhaa.us-west-2.redshift.amazonaws.com\n",
      "DWH_ROLE_ARN ::  arn:aws:iam::647329836013:role/nedRole\n"
     ]
    }
   ],
   "source": [
    "DWH_ENDPOINT = myClusterProps['Endpoint']['Address']\n",
    "DWH_ROLE_ARN = myClusterProps['IamRoles'][0]['IamRoleArn']\n",
    "print(\"DWH_ENDPOINT :: \", DWH_ENDPOINT)\n",
    "print(\"DWH_ROLE_ARN :: \", DWH_ROLE_ARN)"
   ]
  },
  {
   "cell_type": "code",
   "execution_count": null,
   "metadata": {},
   "outputs": [],
   "source": [
    "conn = psycopg2.connect(\"host={} dbname={} user={} password={} port={}\".format(*config['CLUSTER'].values()))\n",
    "\n",
    "cur = conn.cursor()"
   ]
  },
  {
   "cell_type": "code",
   "execution_count": null,
   "metadata": {},
   "outputs": [],
   "source": [
    "stg_events = pd.read_sql(\"SELECT  COUNT(*) FROM staging_events;\", conn)\n",
    "stg_songs = pd.read_sql(\"SELECT  COUNT(*) FROM staging_songs;\", conn)\n",
    "songplay_count = pd.read_sql(\"SELECT  COUNT(*) FROM songplays;\", conn)\n",
    "artist_count = pd.read_sql(\"SELECT  COUNT(*) FROM artists;\", conn)\n",
    "song_count = pd.read_sql(\"SELECT  COUNT(*) FROM songs;\", conn)\n",
    "user_count = pd.read_sql(\"SELECT  COUNT(*) FROM users;\", conn)"
   ]
  },
  {
   "cell_type": "code",
   "execution_count": 55,
   "metadata": {},
   "outputs": [
    {
     "name": "stdout",
     "output_type": "stream",
     "text": [
      "count of staging_events is 8056.\n",
      "count of staging_songs is 14896.\n",
      "count from songplays is 9957.\n",
      "count of artists is 10025.\n",
      "count of songs is 14896.\n",
      "count from users is 104.\n"
     ]
    }
   ],
   "source": [
    "print('count of staging_events is {}.'.format(stg_events.iloc[0]['count']))\n",
    "print('count of staging_songs is {}.'.format(stg_songs.iloc[0]['count']))\n",
    "print('count from songplays is {}.'.format(songplay_count.iloc[0]['count']))\n",
    "print('count of artists is {}.'.format(artist_count.iloc[0]['count']))\n",
    "print('count of songs is {}.'.format(song_count.iloc[0]['count']))\n",
    "print('count from users is {}.'.format(user_count.iloc[0]['count']))\n"
   ]
  },
  {
   "attachments": {},
   "cell_type": "markdown",
   "metadata": {},
   "source": [
    "#### Clean up resources"
   ]
  },
  {
   "cell_type": "code",
   "execution_count": null,
   "metadata": {},
   "outputs": [],
   "source": [
    "redshift.delete_cluster( ClusterIdentifier=CLUSTER_IDENTIFIER,  SkipFinalClusterSnapshot=True)"
   ]
  },
  {
   "cell_type": "code",
   "execution_count": null,
   "metadata": {},
   "outputs": [],
   "source": [
    "iam.detach_role_policy(RoleName=ROLE_NAME, PolicyArn=\"arn:aws:iam::aws:policy/AmazonS3ReadOnlyAccess\")\n",
    "iam.delete_role(RoleName=ROLE_NAME)"
   ]
  }
 ],
 "metadata": {
  "kernelspec": {
   "display_name": "udacity_venv",
   "language": "python",
   "name": "python3"
  },
  "language_info": {
   "codemirror_mode": {
    "name": "ipython",
    "version": 3
   },
   "file_extension": ".py",
   "mimetype": "text/x-python",
   "name": "python",
   "nbconvert_exporter": "python",
   "pygments_lexer": "ipython3",
   "version": "3.8.10 (default, Mar 15 2022, 12:22:08) \n[GCC 9.4.0]"
  },
  "orig_nbformat": 4,
  "vscode": {
   "interpreter": {
    "hash": "0a8918e1b6d560b31eb5ddca676ed5aa1631163465b249ab93c0679eb444fed1"
   }
  }
 },
 "nbformat": 4,
 "nbformat_minor": 2
}
